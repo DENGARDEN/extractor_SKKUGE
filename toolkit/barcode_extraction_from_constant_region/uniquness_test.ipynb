{
 "cells": [
  {
   "cell_type": "code",
   "execution_count": 1,
   "metadata": {},
   "outputs": [],
   "source": [
    "import pandas as pd"
   ]
  },
  {
   "cell_type": "code",
   "execution_count": 6,
   "metadata": {},
   "outputs": [],
   "source": [
    "df = pd.read_csv('./dest/20230407_H23.extendedFrags_barcode.csv', header=None, index_col=0)"
   ]
  },
  {
   "cell_type": "code",
   "execution_count": 7,
   "metadata": {},
   "outputs": [
    {
     "data": {
      "text/html": [
       "<div>\n",
       "<style scoped>\n",
       "    .dataframe tbody tr th:only-of-type {\n",
       "        vertical-align: middle;\n",
       "    }\n",
       "\n",
       "    .dataframe tbody tr th {\n",
       "        vertical-align: top;\n",
       "    }\n",
       "\n",
       "    .dataframe thead th {\n",
       "        text-align: right;\n",
       "    }\n",
       "</style>\n",
       "<table border=\"1\" class=\"dataframe\">\n",
       "  <thead>\n",
       "    <tr style=\"text-align: right;\">\n",
       "      <th></th>\n",
       "      <th>1</th>\n",
       "    </tr>\n",
       "    <tr>\n",
       "      <th>0</th>\n",
       "      <th></th>\n",
       "    </tr>\n",
       "  </thead>\n",
       "  <tbody>\n",
       "    <tr>\n",
       "      <th>0</th>\n",
       "      <td>ACAGTGTCACTGTCAGTGTGTGAGTGTGAGAGCAGAGCTACGCACT...</td>\n",
       "    </tr>\n",
       "    <tr>\n",
       "      <th>1</th>\n",
       "      <td>ACTCACTCTGTGACTGACTGAGTCTCAGTC</td>\n",
       "    </tr>\n",
       "    <tr>\n",
       "      <th>2</th>\n",
       "      <td>AGTGTGTGTGTCTGTGTGAGTGTGAGAGACAGCAGAGCTACGCACT...</td>\n",
       "    </tr>\n",
       "    <tr>\n",
       "      <th>3</th>\n",
       "      <td>TCTGTCAGTCTCAGTGTGACTGACAGTGTG</td>\n",
       "    </tr>\n",
       "    <tr>\n",
       "      <th>4</th>\n",
       "      <td>TCTCAGTCACAGTGTGTCTGACACTGAGTG</td>\n",
       "    </tr>\n",
       "    <tr>\n",
       "      <th>...</th>\n",
       "      <td>...</td>\n",
       "    </tr>\n",
       "    <tr>\n",
       "      <th>232206</th>\n",
       "      <td>TCACAGTGACTCAGTGTCTCACTCAGACAGAGCAGAGCTACGCACT...</td>\n",
       "    </tr>\n",
       "    <tr>\n",
       "      <th>232207</th>\n",
       "      <td>TGACACTGACTGACTGTGAGTGTGTGTGTGAGCAGAGCTACGCACT...</td>\n",
       "    </tr>\n",
       "    <tr>\n",
       "      <th>232208</th>\n",
       "      <td>AGACACTCTGACAGTGTGTCTGTCTGACACAGCAGAGCTACGCACT...</td>\n",
       "    </tr>\n",
       "    <tr>\n",
       "      <th>232209</th>\n",
       "      <td>AGTCAGTGAGTGCGACTGTGTGTGTCAGTG</td>\n",
       "    </tr>\n",
       "    <tr>\n",
       "      <th>232210</th>\n",
       "      <td>AGTCAGTGAGTGCGACTGTGTGTGTCAGTGAGCAGAGCTACGCACT...</td>\n",
       "    </tr>\n",
       "  </tbody>\n",
       "</table>\n",
       "<p>232211 rows × 1 columns</p>\n",
       "</div>"
      ],
      "text/plain": [
       "                                                        1\n",
       "0                                                        \n",
       "0       ACAGTGTCACTGTCAGTGTGTGAGTGTGAGAGCAGAGCTACGCACT...\n",
       "1                          ACTCACTCTGTGACTGACTGAGTCTCAGTC\n",
       "2       AGTGTGTGTGTCTGTGTGAGTGTGAGAGACAGCAGAGCTACGCACT...\n",
       "3                          TCTGTCAGTCTCAGTGTGACTGACAGTGTG\n",
       "4                          TCTCAGTCACAGTGTGTCTGACACTGAGTG\n",
       "...                                                   ...\n",
       "232206  TCACAGTGACTCAGTGTCTCACTCAGACAGAGCAGAGCTACGCACT...\n",
       "232207  TGACACTGACTGACTGTGAGTGTGTGTGTGAGCAGAGCTACGCACT...\n",
       "232208  AGACACTCTGACAGTGTGTCTGTCTGACACAGCAGAGCTACGCACT...\n",
       "232209                     AGTCAGTGAGTGCGACTGTGTGTGTCAGTG\n",
       "232210  AGTCAGTGAGTGCGACTGTGTGTGTCAGTGAGCAGAGCTACGCACT...\n",
       "\n",
       "[232211 rows x 1 columns]"
      ]
     },
     "execution_count": 7,
     "metadata": {},
     "output_type": "execute_result"
    }
   ],
   "source": [
    "df"
   ]
  },
  {
   "cell_type": "code",
   "execution_count": 11,
   "metadata": {},
   "outputs": [
    {
     "data": {
      "text/plain": [
       "True"
      ]
     },
     "execution_count": 11,
     "metadata": {},
     "output_type": "execute_result"
    }
   ],
   "source": [
    "df[1].is_unique"
   ]
  },
  {
   "cell_type": "code",
   "execution_count": null,
   "metadata": {},
   "outputs": [],
   "source": []
  }
 ],
 "metadata": {
  "kernelspec": {
   "display_name": "Python 3",
   "language": "python",
   "name": "python3"
  },
  "language_info": {
   "codemirror_mode": {
    "name": "ipython",
    "version": 3
   },
   "file_extension": ".py",
   "mimetype": "text/x-python",
   "name": "python",
   "nbconvert_exporter": "python",
   "pygments_lexer": "ipython3",
   "version": "3.9.15"
  },
  "orig_nbformat": 4
 },
 "nbformat": 4,
 "nbformat_minor": 2
}
