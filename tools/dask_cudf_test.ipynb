{
 "cells": [
  {
   "cell_type": "code",
   "execution_count": 1,
   "metadata": {},
   "outputs": [],
   "source": [
    "from dask.distributed import Client, wait\n",
    "from dask_cuda import LocalCUDACluster\n",
    "from dask.utils import parse_bytes\n",
    "import cudf\n",
    "import dask_cudf\n",
    "\n",
    "# sorted(glob.glob(\"./Input/KJS/EYS_2nd_lib/**/*Frags.fastq\", recursive=True))\n",
    "INPUT_DATA = ['./Input/KJS/EYS_2nd_lib/1/20230717_1.extendedFrags.fastq',\n",
    " './Input/KJS/EYS_2nd_lib/2/20230717_2.extendedFrags.fastq',\n",
    " './Input/KJS/EYS_2nd_lib/3/20230717_3.extendedFrags.fastq',\n",
    " './Input/KJS/EYS_2nd_lib/4/20230717_4.extendedFrags.fastq',\n",
    " './Input/KJS/EYS_2nd_lib/5/20230717_5.extendedFrags.fastq',\n",
    " './Input/KJS/EYS_2nd_lib/6/20230717_6.extendedFrags.fastq',\n",
    " './Input/KJS/EYS_2nd_lib/7/20230717_7.extendedFrags_error_truncated.fastq',\n",
    " './Input/KJS/EYS_2nd_lib/8/20230717_8.extendedFrags.fastq']"
   ]
  },
  {
   "cell_type": "code",
   "execution_count": 2,
   "metadata": {},
   "outputs": [
    {
     "name": "stderr",
     "output_type": "stream",
     "text": [
      "/home/dengarden/anaconda3/envs/rapids-23.10/lib/python3.10/site-packages/distributed/node.py:182: UserWarning: Port 8787 is already in use.\n",
      "Perhaps you already have a cluster running?\n",
      "Hosting the HTTP server on port 44501 instead\n",
      "  warnings.warn(\n"
     ]
    },
    {
     "data": {
      "text/html": [
       "<div>\n",
       "    <div style=\"width: 24px; height: 24px; background-color: #e1e1e1; border: 3px solid #9D9D9D; border-radius: 5px; position: absolute;\"> </div>\n",
       "    <div style=\"margin-left: 48px;\">\n",
       "        <h3 style=\"margin-bottom: 0px;\">Client</h3>\n",
       "        <p style=\"color: #9D9D9D; margin-bottom: 0px;\">Client-65395e57-9599-11ee-9142-7c10c98ec0e7</p>\n",
       "        <table style=\"width: 100%; text-align: left;\">\n",
       "\n",
       "        <tr>\n",
       "        \n",
       "            <td style=\"text-align: left;\"><strong>Connection method:</strong> Cluster object</td>\n",
       "            <td style=\"text-align: left;\"><strong>Cluster type:</strong> dask_cuda.LocalCUDACluster</td>\n",
       "        \n",
       "        </tr>\n",
       "\n",
       "        \n",
       "            <tr>\n",
       "                <td style=\"text-align: left;\">\n",
       "                    <strong>Dashboard: </strong> <a href=\"http://127.0.0.1:44501/status\" target=\"_blank\">http://127.0.0.1:44501/status</a>\n",
       "                </td>\n",
       "                <td style=\"text-align: left;\"></td>\n",
       "            </tr>\n",
       "        \n",
       "\n",
       "        </table>\n",
       "\n",
       "        \n",
       "\n",
       "        \n",
       "            <details>\n",
       "            <summary style=\"margin-bottom: 20px;\"><h3 style=\"display: inline;\">Cluster Info</h3></summary>\n",
       "            <div class=\"jp-RenderedHTMLCommon jp-RenderedHTML jp-mod-trusted jp-OutputArea-output\">\n",
       "    <div style=\"width: 24px; height: 24px; background-color: #e1e1e1; border: 3px solid #9D9D9D; border-radius: 5px; position: absolute;\">\n",
       "    </div>\n",
       "    <div style=\"margin-left: 48px;\">\n",
       "        <h3 style=\"margin-bottom: 0px; margin-top: 0px;\">LocalCUDACluster</h3>\n",
       "        <p style=\"color: #9D9D9D; margin-bottom: 0px;\">5b061df2</p>\n",
       "        <table style=\"width: 100%; text-align: left;\">\n",
       "            <tr>\n",
       "                <td style=\"text-align: left;\">\n",
       "                    <strong>Dashboard:</strong> <a href=\"http://127.0.0.1:44501/status\" target=\"_blank\">http://127.0.0.1:44501/status</a>\n",
       "                </td>\n",
       "                <td style=\"text-align: left;\">\n",
       "                    <strong>Workers:</strong> 1\n",
       "                </td>\n",
       "            </tr>\n",
       "            <tr>\n",
       "                <td style=\"text-align: left;\">\n",
       "                    <strong>Total threads:</strong> 1\n",
       "                </td>\n",
       "                <td style=\"text-align: left;\">\n",
       "                    <strong>Total memory:</strong> 62.67 GiB\n",
       "                </td>\n",
       "            </tr>\n",
       "            \n",
       "            <tr>\n",
       "    <td style=\"text-align: left;\"><strong>Status:</strong> running</td>\n",
       "    <td style=\"text-align: left;\"><strong>Using processes:</strong> True</td>\n",
       "</tr>\n",
       "\n",
       "            \n",
       "        </table>\n",
       "\n",
       "        <details>\n",
       "            <summary style=\"margin-bottom: 20px;\">\n",
       "                <h3 style=\"display: inline;\">Scheduler Info</h3>\n",
       "            </summary>\n",
       "\n",
       "            <div style=\"\">\n",
       "    <div>\n",
       "        <div style=\"width: 24px; height: 24px; background-color: #FFF7E5; border: 3px solid #FF6132; border-radius: 5px; position: absolute;\"> </div>\n",
       "        <div style=\"margin-left: 48px;\">\n",
       "            <h3 style=\"margin-bottom: 0px;\">Scheduler</h3>\n",
       "            <p style=\"color: #9D9D9D; margin-bottom: 0px;\">Scheduler-348342cf-70dc-4d18-8371-cb821f670071</p>\n",
       "            <table style=\"width: 100%; text-align: left;\">\n",
       "                <tr>\n",
       "                    <td style=\"text-align: left;\">\n",
       "                        <strong>Comm:</strong> tcp://127.0.0.1:39951\n",
       "                    </td>\n",
       "                    <td style=\"text-align: left;\">\n",
       "                        <strong>Workers:</strong> 1\n",
       "                    </td>\n",
       "                </tr>\n",
       "                <tr>\n",
       "                    <td style=\"text-align: left;\">\n",
       "                        <strong>Dashboard:</strong> <a href=\"http://127.0.0.1:44501/status\" target=\"_blank\">http://127.0.0.1:44501/status</a>\n",
       "                    </td>\n",
       "                    <td style=\"text-align: left;\">\n",
       "                        <strong>Total threads:</strong> 1\n",
       "                    </td>\n",
       "                </tr>\n",
       "                <tr>\n",
       "                    <td style=\"text-align: left;\">\n",
       "                        <strong>Started:</strong> Just now\n",
       "                    </td>\n",
       "                    <td style=\"text-align: left;\">\n",
       "                        <strong>Total memory:</strong> 62.67 GiB\n",
       "                    </td>\n",
       "                </tr>\n",
       "            </table>\n",
       "        </div>\n",
       "    </div>\n",
       "\n",
       "    <details style=\"margin-left: 48px;\">\n",
       "        <summary style=\"margin-bottom: 20px;\">\n",
       "            <h3 style=\"display: inline;\">Workers</h3>\n",
       "        </summary>\n",
       "\n",
       "        \n",
       "        <div style=\"margin-bottom: 20px;\">\n",
       "            <div style=\"width: 24px; height: 24px; background-color: #DBF5FF; border: 3px solid #4CC9FF; border-radius: 5px; position: absolute;\"> </div>\n",
       "            <div style=\"margin-left: 48px;\">\n",
       "            <details>\n",
       "                <summary>\n",
       "                    <h4 style=\"margin-bottom: 0px; display: inline;\">Worker: 0</h4>\n",
       "                </summary>\n",
       "                <table style=\"width: 100%; text-align: left;\">\n",
       "                    <tr>\n",
       "                        <td style=\"text-align: left;\">\n",
       "                            <strong>Comm: </strong> tcp://127.0.0.1:37159\n",
       "                        </td>\n",
       "                        <td style=\"text-align: left;\">\n",
       "                            <strong>Total threads: </strong> 1\n",
       "                        </td>\n",
       "                    </tr>\n",
       "                    <tr>\n",
       "                        <td style=\"text-align: left;\">\n",
       "                            <strong>Dashboard: </strong> <a href=\"http://127.0.0.1:33001/status\" target=\"_blank\">http://127.0.0.1:33001/status</a>\n",
       "                        </td>\n",
       "                        <td style=\"text-align: left;\">\n",
       "                            <strong>Memory: </strong> 62.67 GiB\n",
       "                        </td>\n",
       "                    </tr>\n",
       "                    <tr>\n",
       "                        <td style=\"text-align: left;\">\n",
       "                            <strong>Nanny: </strong> tcp://127.0.0.1:42233\n",
       "                        </td>\n",
       "                        <td style=\"text-align: left;\"></td>\n",
       "                    </tr>\n",
       "                    <tr>\n",
       "                        <td colspan=\"2\" style=\"text-align: left;\">\n",
       "                            <strong>Local directory: </strong> /tmp/dask-scratch-space/worker-2z4dcq2m\n",
       "                        </td>\n",
       "                    </tr>\n",
       "\n",
       "                    \n",
       "                    <tr>\n",
       "                        <td style=\"text-align: left;\">\n",
       "                            <strong>GPU: </strong>NVIDIA GeForce RTX 3090\n",
       "                        </td>\n",
       "                        <td style=\"text-align: left;\">\n",
       "                            <strong>GPU memory: </strong> 24.00 GiB\n",
       "                        </td>\n",
       "                    </tr>\n",
       "                    \n",
       "\n",
       "                    \n",
       "\n",
       "                </table>\n",
       "            </details>\n",
       "            </div>\n",
       "        </div>\n",
       "        \n",
       "\n",
       "    </details>\n",
       "</div>\n",
       "\n",
       "        </details>\n",
       "    </div>\n",
       "</div>\n",
       "            </details>\n",
       "        \n",
       "\n",
       "    </div>\n",
       "</div>"
      ],
      "text/plain": [
       "<Client: 'tcp://127.0.0.1:39951' processes=1 threads=1, memory=62.67 GiB>"
      ]
     },
     "execution_count": 2,
     "metadata": {},
     "output_type": "execute_result"
    }
   ],
   "source": [
    "cluster = LocalCUDACluster(\n",
    "    CUDA_VISIBLE_DEVICES=\"0\",\n",
    "    rmm_pool_size=parse_bytes(\"20GB\"), # This GPU has 48GB of memory\n",
    "    device_memory_limit=parse_bytes(\"20GB\"),\n",
    ")\n",
    "client = Client(cluster)\n",
    "client"
   ]
  },
  {
   "cell_type": "code",
   "execution_count": 3,
   "metadata": {},
   "outputs": [
    {
     "name": "stdout",
     "output_type": "stream",
     "text": [
      "25G\t./Input/KJS/EYS_2nd_lib/1/20230717_1.extendedFrags.fastq\n",
      "25G\t./Input/KJS/EYS_2nd_lib/2/20230717_2.extendedFrags.fastq\n",
      "22G\t./Input/KJS/EYS_2nd_lib/3/20230717_3.extendedFrags.fastq\n",
      "23G\t./Input/KJS/EYS_2nd_lib/4/20230717_4.extendedFrags.fastq\n",
      "26G\t./Input/KJS/EYS_2nd_lib/5/20230717_5.extendedFrags.fastq\n",
      "26G\t./Input/KJS/EYS_2nd_lib/6/20230717_6.extendedFrags.fastq\n",
      "22G\t./Input/KJS/EYS_2nd_lib/7/20230717_7.extendedFrags_error_truncated.fastq\n",
      "25G\t./Input/KJS/EYS_2nd_lib/8/20230717_8.extendedFrags.fastq\n"
     ]
    }
   ],
   "source": [
    "!du -sh ./Input/KJS/EYS_2nd_lib/*/*.fastq"
   ]
  },
  {
   "cell_type": "code",
   "execution_count": 6,
   "metadata": {},
   "outputs": [
    {
     "name": "stdout",
     "output_type": "stream",
     "text": [
      "14\n",
      "CPU times: user 83.3 ms, sys: 89.4 ms, total: 173 ms\n",
      "Wall time: 6.54 s\n"
     ]
    },
    {
     "data": {
      "text/plain": [
       "179206932"
      ]
     },
     "execution_count": 6,
     "metadata": {},
     "output_type": "execute_result"
    }
   ],
   "source": [
    "%%time\n",
    "ddf = dask_cudf.read_csv(INPUT_DATA[0], header=None, names=[\"DATA\"],blocksize=\"2 GB\")\n",
    "print(ddf.npartitions)\n",
    "len(ddf)"
   ]
  },
  {
   "cell_type": "code",
   "execution_count": 7,
   "metadata": {},
   "outputs": [
    {
     "ename": "TypeError",
     "evalue": "String Arrays is not yet implemented in cudf",
     "output_type": "error",
     "traceback": [
      "\u001b[0;31m---------------------------------------------------------------------------\u001b[0m",
      "\u001b[0;31mTypeError\u001b[0m                                 Traceback (most recent call last)",
      "Cell \u001b[0;32mIn[7], line 1\u001b[0m\n\u001b[0;32m----> 1\u001b[0m ddf_reshaped \u001b[38;5;241m=\u001b[39m \u001b[43mddf\u001b[49m\u001b[43m[\u001b[49m\u001b[38;5;124;43m\"\u001b[39;49m\u001b[38;5;124;43mDATA\u001b[39;49m\u001b[38;5;124;43m\"\u001b[39;49m\u001b[43m]\u001b[49m\u001b[38;5;241;43m.\u001b[39;49m\u001b[43mto_dask_array\u001b[49m\u001b[43m(\u001b[49m\u001b[43mlengths\u001b[49m\u001b[38;5;241;43m=\u001b[39;49m\u001b[38;5;28;43;01mTrue\u001b[39;49;00m\u001b[43m)\u001b[49m\u001b[38;5;241m.\u001b[39mreshape(\u001b[38;5;241m-\u001b[39m\u001b[38;5;241m1\u001b[39m, \u001b[38;5;241m4\u001b[39m)\n\u001b[1;32m      2\u001b[0m ddf_reshaped\n",
      "File \u001b[0;32m~/anaconda3/envs/rapids-23.10/lib/python3.10/site-packages/dask/dataframe/core.py:1877\u001b[0m, in \u001b[0;36m_Frame.to_dask_array\u001b[0;34m(self, lengths, meta)\u001b[0m\n\u001b[1;32m   1874\u001b[0m \u001b[38;5;28;01mif\u001b[39;00m lengths \u001b[38;5;129;01mis\u001b[39;00m \u001b[38;5;28;01mTrue\u001b[39;00m:\n\u001b[1;32m   1875\u001b[0m     lengths \u001b[38;5;241m=\u001b[39m \u001b[38;5;28mtuple\u001b[39m(\u001b[38;5;28mself\u001b[39m\u001b[38;5;241m.\u001b[39mmap_partitions(\u001b[38;5;28mlen\u001b[39m, enforce_metadata\u001b[38;5;241m=\u001b[39m\u001b[38;5;28;01mFalse\u001b[39;00m)\u001b[38;5;241m.\u001b[39mcompute())\n\u001b[0;32m-> 1877\u001b[0m arr \u001b[38;5;241m=\u001b[39m \u001b[38;5;28;43mself\u001b[39;49m\u001b[38;5;241;43m.\u001b[39;49m\u001b[43mvalues\u001b[49m\n\u001b[1;32m   1879\u001b[0m chunks \u001b[38;5;241m=\u001b[39m \u001b[38;5;28mself\u001b[39m\u001b[38;5;241m.\u001b[39m_validate_chunks(arr, lengths)\n\u001b[1;32m   1880\u001b[0m arr\u001b[38;5;241m.\u001b[39m_chunks \u001b[38;5;241m=\u001b[39m chunks\n",
      "File \u001b[0;32m~/anaconda3/envs/rapids-23.10/lib/python3.10/site-packages/dask/dataframe/core.py:3724\u001b[0m, in \u001b[0;36m_Frame.values\u001b[0;34m(self)\u001b[0m\n\u001b[1;32m   3716\u001b[0m \u001b[38;5;129m@property\u001b[39m\n\u001b[1;32m   3717\u001b[0m \u001b[38;5;28;01mdef\u001b[39;00m \u001b[38;5;21mvalues\u001b[39m(\u001b[38;5;28mself\u001b[39m):\n\u001b[1;32m   3718\u001b[0m \u001b[38;5;250m    \u001b[39m\u001b[38;5;124;03m\"\"\"Return a dask.array of the values of this dataframe\u001b[39;00m\n\u001b[1;32m   3719\u001b[0m \n\u001b[1;32m   3720\u001b[0m \u001b[38;5;124;03m    Warning: This creates a dask.array without precise shape information.\u001b[39;00m\n\u001b[1;32m   3721\u001b[0m \u001b[38;5;124;03m    Operations that depend on shape information, like slicing or reshaping,\u001b[39;00m\n\u001b[1;32m   3722\u001b[0m \u001b[38;5;124;03m    will not work.\u001b[39;00m\n\u001b[1;32m   3723\u001b[0m \u001b[38;5;124;03m    \"\"\"\u001b[39;00m\n\u001b[0;32m-> 3724\u001b[0m     \u001b[38;5;28;01mif\u001b[39;00m is_extension_array_dtype(\u001b[38;5;28;43mself\u001b[39;49m\u001b[38;5;241;43m.\u001b[39;49m\u001b[43m_meta\u001b[49m\u001b[38;5;241;43m.\u001b[39;49m\u001b[43mvalues\u001b[49m):\n\u001b[1;32m   3725\u001b[0m         warnings\u001b[38;5;241m.\u001b[39mwarn(\n\u001b[1;32m   3726\u001b[0m             \u001b[38;5;124m\"\u001b[39m\u001b[38;5;124mDask currently has limited support for converting pandas extension dtypes \u001b[39m\u001b[38;5;124m\"\u001b[39m\n\u001b[1;32m   3727\u001b[0m             \u001b[38;5;124mf\u001b[39m\u001b[38;5;124m\"\u001b[39m\u001b[38;5;124mto arrays. Converting \u001b[39m\u001b[38;5;132;01m{\u001b[39;00m\u001b[38;5;28mself\u001b[39m\u001b[38;5;241m.\u001b[39m_meta\u001b[38;5;241m.\u001b[39mvalues\u001b[38;5;241m.\u001b[39mdtype\u001b[38;5;132;01m}\u001b[39;00m\u001b[38;5;124m to object dtype.\u001b[39m\u001b[38;5;124m\"\u001b[39m,\n\u001b[1;32m   3728\u001b[0m             \u001b[38;5;167;01mUserWarning\u001b[39;00m,\n\u001b[1;32m   3729\u001b[0m         )\n\u001b[1;32m   3730\u001b[0m     \u001b[38;5;28;01mreturn\u001b[39;00m \u001b[38;5;28mself\u001b[39m\u001b[38;5;241m.\u001b[39mmap_partitions(methods\u001b[38;5;241m.\u001b[39mvalues)\n",
      "File \u001b[0;32m~/anaconda3/envs/rapids-23.10/lib/python3.10/site-packages/nvtx/nvtx.py:115\u001b[0m, in \u001b[0;36mannotate.__call__.<locals>.inner\u001b[0;34m(*args, **kwargs)\u001b[0m\n\u001b[1;32m    112\u001b[0m \u001b[38;5;129m@wraps\u001b[39m(func)\n\u001b[1;32m    113\u001b[0m \u001b[38;5;28;01mdef\u001b[39;00m \u001b[38;5;21minner\u001b[39m(\u001b[38;5;241m*\u001b[39margs, \u001b[38;5;241m*\u001b[39m\u001b[38;5;241m*\u001b[39mkwargs):\n\u001b[1;32m    114\u001b[0m     libnvtx_push_range(\u001b[38;5;28mself\u001b[39m\u001b[38;5;241m.\u001b[39mattributes, \u001b[38;5;28mself\u001b[39m\u001b[38;5;241m.\u001b[39mdomain\u001b[38;5;241m.\u001b[39mhandle)\n\u001b[0;32m--> 115\u001b[0m     result \u001b[38;5;241m=\u001b[39m \u001b[43mfunc\u001b[49m\u001b[43m(\u001b[49m\u001b[38;5;241;43m*\u001b[39;49m\u001b[43margs\u001b[49m\u001b[43m,\u001b[49m\u001b[43m \u001b[49m\u001b[38;5;241;43m*\u001b[39;49m\u001b[38;5;241;43m*\u001b[39;49m\u001b[43mkwargs\u001b[49m\u001b[43m)\u001b[49m\n\u001b[1;32m    116\u001b[0m     libnvtx_pop_range(\u001b[38;5;28mself\u001b[39m\u001b[38;5;241m.\u001b[39mdomain\u001b[38;5;241m.\u001b[39mhandle)\n\u001b[1;32m    117\u001b[0m     \u001b[38;5;28;01mreturn\u001b[39;00m result\n",
      "File \u001b[0;32m~/anaconda3/envs/rapids-23.10/lib/python3.10/site-packages/cudf/core/single_column_frame.py:118\u001b[0m, in \u001b[0;36mSingleColumnFrame.values\u001b[0;34m(self)\u001b[0m\n\u001b[1;32m    115\u001b[0m \u001b[38;5;129m@property\u001b[39m  \u001b[38;5;66;03m# type: ignore\u001b[39;00m\n\u001b[1;32m    116\u001b[0m \u001b[38;5;129m@_cudf_nvtx_annotate\u001b[39m\n\u001b[1;32m    117\u001b[0m \u001b[38;5;28;01mdef\u001b[39;00m \u001b[38;5;21mvalues\u001b[39m(\u001b[38;5;28mself\u001b[39m):  \u001b[38;5;66;03m# noqa: D102\u001b[39;00m\n\u001b[0;32m--> 118\u001b[0m     \u001b[38;5;28;01mreturn\u001b[39;00m \u001b[38;5;28;43mself\u001b[39;49m\u001b[38;5;241;43m.\u001b[39;49m\u001b[43m_column\u001b[49m\u001b[38;5;241;43m.\u001b[39;49m\u001b[43mvalues\u001b[49m\n",
      "File \u001b[0;32m~/anaconda3/envs/rapids-23.10/lib/python3.10/site-packages/cudf/core/column/string.py:5755\u001b[0m, in \u001b[0;36mStringColumn.values\u001b[0;34m(self)\u001b[0m\n\u001b[1;32m   5750\u001b[0m \u001b[38;5;129m@property\u001b[39m\n\u001b[1;32m   5751\u001b[0m \u001b[38;5;28;01mdef\u001b[39;00m \u001b[38;5;21mvalues\u001b[39m(\u001b[38;5;28mself\u001b[39m) \u001b[38;5;241m-\u001b[39m\u001b[38;5;241m>\u001b[39m cupy\u001b[38;5;241m.\u001b[39mndarray:\n\u001b[1;32m   5752\u001b[0m \u001b[38;5;250m    \u001b[39m\u001b[38;5;124;03m\"\"\"\u001b[39;00m\n\u001b[1;32m   5753\u001b[0m \u001b[38;5;124;03m    Return a CuPy representation of the StringColumn.\u001b[39;00m\n\u001b[1;32m   5754\u001b[0m \u001b[38;5;124;03m    \"\"\"\u001b[39;00m\n\u001b[0;32m-> 5755\u001b[0m     \u001b[38;5;28;01mraise\u001b[39;00m \u001b[38;5;167;01mTypeError\u001b[39;00m(\u001b[38;5;124m\"\u001b[39m\u001b[38;5;124mString Arrays is not yet implemented in cudf\u001b[39m\u001b[38;5;124m\"\u001b[39m)\n",
      "\u001b[0;31mTypeError\u001b[0m: String Arrays is not yet implemented in cudf"
     ]
    }
   ],
   "source": [
    "ddf_reshaped = ddf[\"DATA\"].to_dask_array(lengths=True).reshape(-1, 4)\n",
    "ddf_reshaped"
   ]
  },
  {
   "cell_type": "code",
   "execution_count": 5,
   "metadata": {},
   "outputs": [
    {
     "data": {
      "text/plain": [
       "[<dask_cudf.DataFrame | 27 tasks | 27 npartitions>,\n",
       " <dask_cudf.DataFrame | 26 tasks | 26 npartitions>,\n",
       " <dask_cudf.DataFrame | 23 tasks | 23 npartitions>,\n",
       " <dask_cudf.DataFrame | 25 tasks | 25 npartitions>,\n",
       " <dask_cudf.DataFrame | 28 tasks | 28 npartitions>,\n",
       " <dask_cudf.DataFrame | 28 tasks | 28 npartitions>,\n",
       " <dask_cudf.DataFrame | 24 tasks | 24 npartitions>,\n",
       " <dask_cudf.DataFrame | 26 tasks | 26 npartitions>]"
      ]
     },
     "execution_count": 5,
     "metadata": {},
     "output_type": "execute_result"
    }
   ],
   "source": [
    "qs = [\n",
    "    dask_cudf.read_csv(f, blocksize=\"1 GB\",header=None, names=[\"DATA\"], dtype=[\"str\"])\n",
    "    for i, f in enumerate(\n",
    "        INPUT_DATA\n",
    "    )\n",
    "]\n",
    "qs"
   ]
  },
  {
   "cell_type": "code",
   "execution_count": 6,
   "metadata": {},
   "outputs": [],
   "source": [
    "# [q.select(pl.count()).collect() for q in qs]"
   ]
  },
  {
   "cell_type": "code",
   "execution_count": 7,
   "metadata": {},
   "outputs": [
    {
     "data": {
      "text/plain": [
       "'DATA'"
      ]
     },
     "execution_count": 7,
     "metadata": {},
     "output_type": "execute_result"
    }
   ],
   "source": [
    "qs[1].columns[0]"
   ]
  },
  {
   "cell_type": "code",
   "execution_count": 8,
   "metadata": {},
   "outputs": [
    {
     "data": {
      "text/plain": [
       "0    @ST-E00127:1400:HJTMMCCX2:2:1101:15554:2944 1:...\n",
       "1    GTTTCAACTTGAAAAAGTGGCACCGAGGCGGTGCGAACTATTCTTT...\n",
       "2                                                    +\n",
       "3    AAFFFJJJAAA<FJJJJFAFJJFJAAA-AFAAA<F<<AFJJFJFJJ...\n",
       "4    @ST-E00127:1400:HJTMMCCX2:2:1101:17827:2944 1:...\n",
       "Name: DATA, dtype: object"
      ]
     },
     "execution_count": 8,
     "metadata": {},
     "output_type": "execute_result"
    }
   ],
   "source": [
    "qs[1][qs[1].columns[0]].head()"
   ]
  },
  {
   "cell_type": "code",
   "execution_count": 9,
   "metadata": {},
   "outputs": [
    {
     "data": {
      "text/plain": [
       "558"
      ]
     },
     "execution_count": 9,
     "metadata": {},
     "output_type": "execute_result"
    }
   ],
   "source": [
    "sample_query = (\n",
    "    qs[1][qs[1].columns[0]]\n",
    "    .str.contains(\n",
    "        r\"TTTTACTACACATCGCTACTACTG(.*)TCATCCTTGGAAGAATCCATTACCCTATCAAAGTAATTTG\"\n",
    "    )\n",
    "    .sum()\n",
    ").compute()\n",
    "sample_query"
   ]
  },
  {
   "cell_type": "code",
   "execution_count": 10,
   "metadata": {},
   "outputs": [],
   "source": [
    "# sample_query.to_numpy().squeeze().item()"
   ]
  },
  {
   "cell_type": "code",
   "execution_count": 11,
   "metadata": {},
   "outputs": [
    {
     "data": {
      "text/plain": [
       "[540, 558, 583, 654, 757, 552, 663, 693]"
      ]
     },
     "execution_count": 11,
     "metadata": {},
     "output_type": "execute_result"
    }
   ],
   "source": [
    "[\n",
    "    q[q.columns[0]]\n",
    "    .str.contains(\n",
    "        r\"TTTTACTACACATCGCTACTACTG(.*)TCATCCTTGGAAGAATCCATTACCCTATCAAAGTAATTTG\"\n",
    "    )\n",
    "    .sum()\n",
    "    .compute()\n",
    "    for q in qs\n",
    "]"
   ]
  },
  {
   "cell_type": "code",
   "execution_count": 12,
   "metadata": {},
   "outputs": [
    {
     "data": {
      "text/plain": [
       "[636, 782, 689, 776, 889, 749, 760, 811]"
      ]
     },
     "execution_count": 12,
     "metadata": {},
     "output_type": "execute_result"
    }
   ],
   "source": [
    "[\n",
    "    q[q.columns[0]]\n",
    "    .str.contains(\n",
    "        r\"TTTTACTACACATCGCTACTACTG\"\n",
    "    )\n",
    "    .sum()\n",
    "    .compute()\n",
    "    for q in qs\n",
    "]"
   ]
  }
 ],
 "metadata": {
  "kernelspec": {
   "display_name": "Python 3",
   "language": "python",
   "name": "python3"
  },
  "language_info": {
   "codemirror_mode": {
    "name": "ipython",
    "version": 3
   },
   "file_extension": ".py",
   "mimetype": "text/x-python",
   "name": "python",
   "nbconvert_exporter": "python",
   "pygments_lexer": "ipython3",
   "version": "3.10.13"
  }
 },
 "nbformat": 4,
 "nbformat_minor": 2
}
